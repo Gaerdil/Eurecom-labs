{
 "cells": [
  {
   "cell_type": "markdown",
   "metadata": {},
   "source": [
    "# Our scratch notebook for the brain data challenge! :D"
   ]
  },
  {
   "cell_type": "markdown",
   "metadata": {},
   "source": [
    "### Commentaires pour vous à supprimer dans le notebook final:\n",
    "C’est un challenge avec pas mal de petit trucs techniques auxquels il vaut mieux faire gaffe.\n",
    "Au lieu de répéter 3 fois sur messenger les choses (et que ça se perde dans la conv), je préfère tout écrire ici au fur et à mesure (en vrac, des infos pour faire tourner le code/ des remarques.)\n",
    "Je préfère être explicite, quite à ce que ça soit exhaustif.\n",
    "\n",
    "Dans le code fourni à utiliser dans notre notebook pour charger le dataloader du lien github du notebook énoncé, il y a l’adresse suivante: '/home/likan_blk/BCI/data_loader' . Or, il semble que je n’y ai pas accès sur zoe, ça me mettait “module introuvable”.\n",
    "Du coup, à la place, j’ai cloné localement le dataloader depuis github, et utilisé à la place le lien suivant : ‘data_loader’, avec data_loader le folder contenant les fichier .py du lien github pour le dataloader.\n",
    "\n",
    "Le path_to_data est '/mnt/datasets/eeg'. J’ai laissé en commentaire les anciennes lignes que j’ai modifiées, on pourra toujours y revenir, au cas où.\n",
    "\n",
    "Il faut télécharger mne avec pip install --user mne , et sans doute ajouter la location de mne au path pour que le dataloader marche (je l'ai ajouté perso, même si je ne sais pas si c'était nécessaire).\n",
    "\n",
    "\n",
    "J’ai aussi ajouté, au fur et à mesure du notebook plein de petits commentaires (en plus de celui là) pour expliquer les choses. C’est surtout pour vous aider vous, vous devrez supprimer les commentaires dans le presentation notebook bien sûr\n",
    "\n"
   ]
  },
  {
   "cell_type": "markdown",
   "metadata": {},
   "source": [
    "## Imports "
   ]
  },
  {
   "cell_type": "code",
   "execution_count": 1,
   "metadata": {},
   "outputs": [],
   "source": [
    "import sys\n",
    "#sys.path.append('/home/likan_blk/BCI/data_loader')  #Path to data_loader code, cloned from github\n",
    "sys.path.append('data_loader')\n",
    "from data import DataBuildClassifier\n",
    "\n",
    "import numpy as np\n"
   ]
  },
  {
   "cell_type": "markdown",
   "metadata": {},
   "source": [
    "## Importing the data (with the provided code)"
   ]
  },
  {
   "cell_type": "markdown",
   "metadata": {},
   "source": [
    "Below, creating the dataloader class, with the help of DataBuildClassifier class. To test the resample parameter more easily, a new function was defined below:"
   ]
  },
  {
   "cell_type": "code",
   "execution_count": 2,
   "metadata": {},
   "outputs": [],
   "source": [
    "#data_loader = DataBuildClassifier('/home/likan_blk/BCI/NewData') #Path to directory with data (i.e NewData contatins 25/, 26/ ....)\n",
    "data_loader = DataBuildClassifier('/mnt/datasets/eeg')\n",
    "#all_subjects = [25, 26,27,28,29,30,32,33,34,35,36,37,38] \n",
    "all_subjects = [25, 26] #plus rapide pour le debug, mais à retirer pour décommenter celui au dessus\n",
    "\n",
    "\n",
    "#Ancienne version\n",
    "#subjects = data_loader.get_data(all_subjects,shuffle=False, windows=[(0.2,0.5)],baseline_window=(0.2,0.3),resample_to=500)\n",
    "\n",
    "#Nouvelle version, plus simple pour le hyperparameter tuning:\n",
    "def createSubjectsWithResample(resample_value):\n",
    "    return data_loader.get_data(all_subjects,shuffle=False, windows=[(0.2,0.5)],baseline_window=(0.2,0.3),resample_to=resample_value)\n",
    "\n"
   ]
  },
  {
   "cell_type": "markdown",
   "metadata": {},
   "source": [
    "And we import the data like below (hyperparameter ***resample_value*** should be between 80Hz and 500Hz):"
   ]
  },
  {
   "cell_type": "code",
   "execution_count": 3,
   "metadata": {},
   "outputs": [
    {
     "name": "stdout",
     "output_type": "stream",
     "text": [
      "dict_keys([25, 26])\n"
     ]
    }
   ],
   "source": [
    "subjects = createSubjectsWithResample(200)\n",
    "print(subjects.keys())"
   ]
  },
  {
   "cell_type": "markdown",
   "metadata": {},
   "source": [
    "### Note : j'ai créé subjects ici pour vous faire la demo, mais en vrai dans le note book final subjects sera sans doute créé en même temps que le hyperparameter tuning, à plusieurs reprise, avec différentes valeurs de resample_value. Je vous laisserai effacer les créations de subjects inutiles dans le notebook (il y en a plusieurs)"
   ]
  },
  {
   "cell_type": "markdown",
   "metadata": {},
   "source": [
    "## Data exploration"
   ]
  },
  {
   "cell_type": "code",
   "execution_count": 4,
   "metadata": {},
   "outputs": [
    {
     "name": "stdout",
     "output_type": "stream",
     "text": [
      "(329, 60, 19)\n",
      "(329,)\n",
      "float64 uint8\n"
     ]
    }
   ],
   "source": [
    "#Example to access a specific subject's data:\n",
    "X,y = subjects[25]\n",
    "print(X.shape) #EEG epochs (Trials) x Time x Channels\n",
    "print(y.shape)\n",
    "print(X.dtype, y.dtype)"
   ]
  },
  {
   "cell_type": "code",
   "execution_count": 5,
   "metadata": {},
   "outputs": [
    {
     "name": "stdout",
     "output_type": "stream",
     "text": [
      "[0 1]\n"
     ]
    }
   ],
   "source": [
    "print(np.unique(y))"
   ]
  },
  {
   "cell_type": "markdown",
   "metadata": {},
   "source": [
    "## Model creation"
   ]
  },
  {
   "cell_type": "markdown",
   "metadata": {},
   "source": [
    "**We can create an original pipeline model from scratch as explained, with layer for every step:**\n",
    "\n",
    "(si on a pas trop la flemme, mais j'ai l'impression que le prof veut plus qu'on démarre du baseline model, en l'améliorant avec les hints de la fin)\n",
    "\n",
    "---"
   ]
  },
  {
   "cell_type": "markdown",
   "metadata": {},
   "source": [
    "###  Spatial filter"
   ]
  },
  {
   "cell_type": "markdown",
   "metadata": {},
   "source": [
    "### Temporal filter"
   ]
  },
  {
   "cell_type": "markdown",
   "metadata": {},
   "source": [
    "### Classifier"
   ]
  },
  {
   "cell_type": "markdown",
   "metadata": {},
   "source": [
    "J'ai pas pu accéder aux liens d'INRIA sur la  Rhiemanian geometry :'( \n",
    "\n",
    "---"
   ]
  },
  {
   "cell_type": "markdown",
   "metadata": {},
   "source": [
    "**Or : use and improve the baseline pipeline model provided in the github repo:**"
   ]
  },
  {
   "cell_type": "markdown",
   "metadata": {},
   "source": [
    "/!\\ je ne sais pas si le baseline model inclus déjà un Spatial et temporal filtering, ou si ça remplace juste la partie classifier... à priori ça remplace toute la pipeline, mais c'est à vérifier."
   ]
  },
  {
   "cell_type": "markdown",
   "metadata": {},
   "source": [
    "## Baseline model creation "
   ]
  },
  {
   "cell_type": "markdown",
   "metadata": {},
   "source": [
    "J'ai ajouté les documents \"model_torch.py\" et \"utils.py\" du dossier src du lien github fourni pour le baseline model(data.py est déjà dans le dossier data_loader).\n",
    "J'ai adapté leur \"solution notebook\" à notre notebook, sur cloud platform.\n",
    "\n",
    "C'est bizarre car il y a un projet github à part pour le data loader, mais une copie du seul  fichier utilisé, data.py, dans le src du github du baseline model. Dans le doute, j'ai gardé le dataloader du repo github sur le dataloader, importé dans le directory **data_loader** relativement à notre notebook, pour entraînner le model suivant. \n",
    "Mais, peut être que dans le futur on pourra juste se contenter de data.py que l'on pourra mettre dans **baseline_src**, mettre tous les fichiers source au même endroit, et supprimmer le directory **data_loader**."
   ]
  },
  {
   "cell_type": "code",
   "execution_count": 6,
   "metadata": {},
   "outputs": [],
   "source": [
    "#Il y avait ça dans le notebook de demo du baseline model, mais je ne sais pas à  quoi ça sert :'(\n",
    "%load_ext autoreload\n",
    "%autoreload 2"
   ]
  },
  {
   "cell_type": "code",
   "execution_count": 7,
   "metadata": {},
   "outputs": [],
   "source": [
    "import os\n",
    "from sklearn.model_selection import train_test_split\n",
    "from baseline_src.utils import single_auc_loging\n",
    "from baseline_src.utils import prepare_dirs,write_results_table, separte_last_block\n",
    "from baseline_src.model_torch import train_model_eegnet\n",
    "import shutil\n",
    "from sklearn.model_selection import StratifiedKFold\n",
    "import codecs"
   ]
  },
  {
   "cell_type": "code",
   "execution_count": 8,
   "metadata": {},
   "outputs": [],
   "source": [
    "experiment_res_dir = './res/' #Path to save results and training|testing statistics"
   ]
  },
  {
   "cell_type": "markdown",
   "metadata": {},
   "source": [
    "Les hyperparamètres du notebook demo du github(on pourra bien sûr les changer si on veut)\n",
    "(et faire un peu de hyperparameter tuning, à partir de ces valeurs)"
   ]
  },
  {
   "cell_type": "code",
   "execution_count": 9,
   "metadata": {},
   "outputs": [],
   "source": [
    "params = {'resample_to': 369,\n",
    "                 'D': 3,\n",
    "                 'F1': 12,\n",
    "                 'dropoutRate1': 0.52,\n",
    "                 'dropoutRate2': 0.36,\n",
    "                 'lr': 0.00066,\n",
    "                 'norm_rate': 0.275\n",
    "                 }"
   ]
  },
  {
   "cell_type": "markdown",
   "metadata": {},
   "source": [
    "Il faudra effacer la première instance de \"subjects\" que j'avais définie plus haut, pour la data visualisation (et réorganiser bien le notebook).\n",
    "Il faudra aussi effacer celle là (je l'ai mise pour vous faire la démo)"
   ]
  },
  {
   "cell_type": "code",
   "execution_count": 10,
   "metadata": {},
   "outputs": [],
   "source": [
    "subjects = createSubjectsWithResample(params['resample_to'])"
   ]
  },
  {
   "cell_type": "markdown",
   "metadata": {},
   "source": [
    "The crossvalidation function imported from the github notebook.\n",
    "Important: we can see that 20% of the data was set aside for testing , with test_on_last_block = True. It will be important parameters for the hyperparameter tuning step, as our choice for the hyperparameters should not be influenced by the test set."
   ]
  },
  {
   "cell_type": "code",
   "execution_count": 11,
   "metadata": {},
   "outputs": [],
   "source": [
    "def cv_per_subj_test(x,y,params,path_to_subj, test_on_last_block=False, plot_fold_history=False):\n",
    "    model_path = os.path.join(path_to_subj,'checkpoints')\n",
    "    best_val_epochs = []\n",
    "    best_val_aucs = []\n",
    "    folds = 4  # To preserve split as 0.6 0.2 0.2\n",
    "    if test_on_last_block:\n",
    "        x_tr,y_tr,x_tst,y_tst = separte_last_block(x,y,test_size=0.2)\n",
    "\n",
    "    cv = StratifiedKFold(n_splits=folds, shuffle=True)\n",
    "    cv_splits = list(cv.split(x_tr, y_tr))\n",
    "    for fold, (train_idx, val_idx) in enumerate(cv_splits):\n",
    "        fold_model_path = os.path.join(model_path, '%d' % fold)\n",
    "        os.makedirs(fold_model_path)\n",
    "        x_tr_fold, y_tr_fold = x_tr[train_idx], y_tr[train_idx]\n",
    "        x_val_fold, y_val_fold = x_tr[val_idx], y_tr[val_idx]\n",
    "        val_history, fold_model = train_model_eegnet(x_tr_fold,y_tr_fold,params,(x_val_fold,y_val_fold),epochs=200,\n",
    "                                                     batch_size=32, shuffle=True,\n",
    "                                                     model_path=os.path.join(fold_model_path,'model{}'.format(fold)))\n",
    "        best_val_epochs.append(np.argmax(val_history['val_auc']) + 1)  # epochs count from 1 (not from 0)\n",
    "        best_val_aucs.append(np.max(val_history['val_auc']))\n",
    "        if plot_fold_history:\n",
    "            single_auc_loging(val_history, 'fold %d' % fold, fold_model_path)\n",
    "\n",
    "    if test_on_last_block:\n",
    "        test_history, final_model = train_model_eegnet(x_tr, y_tr, params, epochs=int(np.mean(best_val_epochs)),\n",
    "                                                       validation_data=(x_tst, y_tst), batch_size=32, shuffle=True,\n",
    "                                                       model_path=os.path.join(path_to_subj,'naive_model'))\n",
    "\n",
    "    single_auc_loging(test_history, 'test_history', path_to_save=path_to_subj)\n",
    "    with codecs.open('%s/res.txt' % path_to_subj, 'w', encoding='utf8') as f:\n",
    "        f.write(u'Val auc %.02f±%.02f\\n' % (np.mean(best_val_aucs),np.std(best_val_aucs)))\n",
    "        f.write('Test auc naive %.02f\\n' % (test_history['val_auc'][-1]))\n",
    "\n",
    "    return {'val_auc':test_history['val_auc'][-1]}, final_model"
   ]
  },
  {
   "cell_type": "markdown",
   "metadata": {},
   "source": [
    "And finally, training the model with the provided functions:"
   ]
  },
  {
   "cell_type": "markdown",
   "metadata": {},
   "source": [
    "#### /!\\ J'avais eu un bug \"torch.nn module has no  attribute Flatten\".\n",
    "J'ai résolu  le problème en upgradant la version de torch sur cloud platform, avec la commande **pip install --upgrade --user torch torchvision**\n",
    "\n"
   ]
  },
  {
   "cell_type": "markdown",
   "metadata": {},
   "source": [
    "En dessous le template fourni dans le github pour entraîner le model (attention à ne pas saturer le notebook de prints si vous n'avez pas mis en commentaires les prints dans train_model_eegnet)"
   ]
  },
  {
   "cell_type": "code",
   "execution_count": 12,
   "metadata": {},
   "outputs": [],
   "source": [
    "#experiment_res_dir = './res/'\n",
    "#subjs_test_stats = {}\n",
    "#for train_subject in all_subjects:\n",
    "#    path_to_subj = prepare_dirs(experiment_res_dir, train_subject)\n",
    "#    x = subjects[train_subject][0]\n",
    "#    x = x.transpose(0, 2, 1)[:, np.newaxis, :, :]\n",
    "#    y=subjects[train_subject][1]\n",
    "#    test_stats, model = cv_per_subj_test(x, y, params, path_to_subj,test_on_last_block=True, plot_fold_history=True)\n",
    "#    subjs_test_stats[train_subject] = test_stats"
   ]
  },
  {
   "cell_type": "markdown",
   "metadata": {},
   "source": [
    "J'en ai fait une fonction, plus facile à recycler pour le hyperparameter tuning.\n",
    "\n",
    "### Note : \n",
    "Perso j'ai mis en commentaire les lignes qui faisaient pleins de prints de la train et val accuracy à chaque étape dans  la fonction **train_model_eegnet** dans model_torch.py, et j'ai importé tqdm avec **pip install --user tqdm** pour avoir tqdm, car c'était assez pratique pour run le code en dessous (plus que de faire des prints de toutes les étapes).\n",
    "\n",
    "Mais si vous ne voulez pas utiliser tqdm, supprimez le de mon code, aucun soucis.\n",
    "Et si vous voulez tous les prints, laissez les 2 lignes de prints de train_model_eegnet non commentées.\n",
    "Par contre, les prints + tqdm ça risque d'être assez moche "
   ]
  },
  {
   "cell_type": "code",
   "execution_count": 13,
   "metadata": {},
   "outputs": [],
   "source": [
    "from tqdm import * #ça permet d'avoir une barre de chargement. \n",
    "#Remplacez for train_subject in tqdm(all_subjects) par for train_subject in all_subjects\n",
    "#Retirez tqdm et mettez plot_fold_history=True en paramètre si vous voulez plus de détails \n",
    "#en faisant des prints à chaque fois de la train/val loss . Mais le notebook sera moins lisible\n",
    "\n",
    "def train(subjects, subjs_test_stats, test_on_last_block): #subjects est un dataset chargé comme précédement. \n",
    "    experiment_res_dir = './res/'\n",
    "    for train_subject in tqdm(all_subjects): ##Remplacez  par for train_subject in all_subjects si vous n'utilisez pas tqdm\n",
    "        path_to_subj = prepare_dirs(experiment_res_dir, train_subject)\n",
    "        x = subjects[train_subject][0]\n",
    "        x = x.transpose(0, 2, 1)[:, np.newaxis, :, :]\n",
    "        y=subjects[train_subject][1]\n",
    "        test_stats, model = cv_per_subj_test(x, y, params, path_to_subj,test_on_last_block=test_on_last_block, plot_fold_history=True)\n",
    "        subjs_test_stats[train_subject] = test_stats"
   ]
  },
  {
   "cell_type": "markdown",
   "metadata": {},
   "source": [
    "Le code ci dessous est juste à titre de démo pour vous.\n",
    "En effet, le vrai entraînnement se fera plus tard, après le hyperparameter tuning."
   ]
  },
  {
   "cell_type": "markdown",
   "metadata": {},
   "source": [
    "perso j'ai eu un warning comme quoi pickle ne serait plus un support possible dans le futur proche, dans la version 1.5, mais ça n'a pas gêné l'exécution de la cellule."
   ]
  },
  {
   "cell_type": "code",
   "execution_count": 14,
   "metadata": {},
   "outputs": [
    {
     "name": "stderr",
     "output_type": "stream",
     "text": [
      "  0%|          | 0/2 [00:00<?, ?it/s]/mnt/workspace/.local/lib/python3.5/site-packages/torch/storage.py:34: FutureWarning: pickle support for Storage will be removed in 1.5. Use `torch.save` instead\n",
      "  warnings.warn(\"pickle support for Storage will be removed in 1.5. Use `torch.save` instead\", FutureWarning)\n",
      "100%|██████████| 2/2 [05:33<00:00, 166.88s/it]\n"
     ]
    }
   ],
   "source": [
    "#Cell à effacer dans le notebook final, une fois que tout le monde a compris comment ça marche\n",
    "subjs_test_stats = {}\n",
    "train(subjects, subjs_test_stats, test_on_last_block=True)"
   ]
  },
  {
   "cell_type": "markdown",
   "metadata": {},
   "source": [
    "This piece will save general information about training in file res.txt contating validating, test naive and test ensamble AUCS for each subject and mean AUC for all subjects"
   ]
  },
  {
   "cell_type": "code",
   "execution_count": 15,
   "metadata": {},
   "outputs": [],
   "source": [
    "write_results_table(subjs_test_stats, path_to_exp=experiment_res_dir)"
   ]
  },
  {
   "cell_type": "markdown",
   "metadata": {},
   "source": [
    "We can access the results of the model's performances in res/res.txt, that was just created.\n",
    "Especially, we can access the mean of the model's AUC on the validation set, among all subjects.\n",
    "A model was indeed created for each subject."
   ]
  },
  {
   "cell_type": "code",
   "execution_count": 16,
   "metadata": {},
   "outputs": [
    {
     "name": "stdout",
     "output_type": "stream",
     "text": [
      "subj val_auc\n",
      "25:0.51\n",
      "26:0.65\n",
      "MEAN:0.58��0.07"
     ]
    }
   ],
   "source": [
    "! cat res/res.txt"
   ]
  },
  {
   "cell_type": "code",
   "execution_count": 17,
   "metadata": {},
   "outputs": [
    {
     "name": "stdout",
     "output_type": "stream",
     "text": [
      "subj val_auc\n",
      "25:0.51\n",
      "26:0.65\n",
      "MEAN:0.58±0.07\n"
     ]
    }
   ],
   "source": [
    "#Les manières plus simples/classiques d'ouvrir le fichier ne marchait pas, ça faisait des problèmes d'encodage, du coup j'ai utilisé io\n",
    "import io\n",
    "with io.open(\"res/res.txt\", \"r\", encoding=\"utf-8\") as my_file:\n",
    "     results = my_file.read() \n",
    "\n",
    "print(results)"
   ]
  },
  {
   "cell_type": "code",
   "execution_count": 18,
   "metadata": {},
   "outputs": [],
   "source": [
    "import re"
   ]
  },
  {
   "cell_type": "code",
   "execution_count": 19,
   "metadata": {},
   "outputs": [
    {
     "name": "stdout",
     "output_type": "stream",
     "text": [
      "0.58\n",
      "0.07\n"
     ]
    }
   ],
   "source": [
    "#Si vous trouvez une manière plus évidente que du regex pour récupérer les résultats, pas de soucis\n",
    "#N'hésitez pas à faire des tests pour vérifier que ça prends bien le bon résultat à chaque fois;\n",
    "#que le regex n'est pas faux\n",
    "model_val_AUC_MEAN = float(re.findall(\"MEAN:.*±\", results)[0][5:-1])\n",
    "model_val_AUC_var = float(re.findall(\"±.*\", results)[0][1:])\n",
    "print(model_val_AUC_MEAN)\n",
    "print(model_val_AUC_var)"
   ]
  },
  {
   "cell_type": "markdown",
   "metadata": {},
   "source": [
    "Accessing those values will be usefull for the hyperparameter tuning phase "
   ]
  },
  {
   "cell_type": "markdown",
   "metadata": {},
   "source": [
    "## Hyperparameter tuning"
   ]
  },
  {
   "cell_type": "markdown",
   "metadata": {},
   "source": [
    "J'ai commencé une approche de grid search.\n",
    "Pour faciliter le hyperparameter tuning, j'ai créé une fonction tout en un qui :\n",
    "- crée un dataset avec les paramètres voulus \n",
    "- l'entraîne\n",
    "- récolte le mean AUC de res.txt\n",
    "- retourne les paramètres/valeur de AUC\n",
    "\n",
    "Comme dit dans l'énoncé, \"However, **the hyperparameters of your pipeline should be the same for all subjects**\", donc la selection par le mean est un choix raisonnable. Et j'ai l'impression que le code basline entraîne bien un modèle différent pour chaque subject avant de faire le mean des AUCs, au lieu d'entraînner un modèle sur tous les subjects et faire le mean.\n",
    "\n",
    "## /!\\ ils disent aussi \"Do not use the test set for hyperparameter tuning. You should use your training data (the first 80% EEG epochs) and partition it to carve out a validation set, to be used for hyperparameter tuning.\"\n",
    "Or, dans leur code fourni, je pense que  **test_on_last_block** doit être mis à True pour séparer le test set.\n",
    "J'ai l'impression que la Mean value du AUC que je récupère dans res.txt est indépendante du test set quand je mets\n",
    "test_on_last_block = true dans la fonction train que j'ai créée, mais c'est pas sûr ...\n",
    "\n",
    "\n",
    "De plus, j'ai commencé une approche grid search, mais incomplète (juste resample pour le moment).\n",
    "Il faudra adapter la fonction pour que ça fasse une grid search sur les autres hyperparamètres aussi.\n",
    "Mais je pense que l'exectution risque d'être très longue, surtout quand on utilisera tous les sujets au lieu de seulement 2.\n",
    "\n",
    "Vous pouvez tenter aussi  une des autres méthodes dont ils parlaient si vous le voulez, genre Optuna.\n",
    "ça a de fortes chances d'être plus rapide. Après, c'est pas obligé non plus, ça dépends de votre temps (on peut toujours raffiner et faire mieux bien sûr)."
   ]
  },
  {
   "cell_type": "markdown",
   "metadata": {},
   "source": [
    "This function below, alltogether with the previously defined functions, helps us doing some grid search on the hyperparameter resample. "
   ]
  },
  {
   "cell_type": "code",
   "execution_count": 20,
   "metadata": {},
   "outputs": [],
   "source": [
    "def tuneResampleValue(resample_values_list): \n",
    "    mean_AUCs = {}\n",
    "    var_AUCs = {}\n",
    "    for resample_val in resample_values_list:\n",
    "        subjects = createSubjectsWithResample(resample_val)\n",
    "        subjs_test_stats = {}\n",
    "        train(subjects, subjs_test_stats, test_on_last_block=True)\n",
    "        write_results_table(subjs_test_stats, path_to_exp=experiment_res_dir)\n",
    "        with io.open(\"res/res.txt\", \"r\", encoding=\"utf-8\") as my_file:\n",
    "            results = my_file.read() \n",
    "        model_val_AUC_MEAN = float(re.findall(\"MEAN:.*±\", results)[0][5:-1])\n",
    "        model_val_AUC_var = float(re.findall(\"±.*\", results)[0][1:])\n",
    "        mean_AUCs[str(resample_val)] = model_val_AUC_MEAN\n",
    "        var_AUCs[str(resample_val)] = model_val_AUC_var\n",
    "    return mean_AUCs, var_AUCs\n"
   ]
  },
  {
   "cell_type": "markdown",
   "metadata": {},
   "source": [
    "Testing a grid search:"
   ]
  },
  {
   "cell_type": "code",
   "execution_count": 21,
   "metadata": {},
   "outputs": [],
   "source": [
    "import time"
   ]
  },
  {
   "cell_type": "code",
   "execution_count": 22,
   "metadata": {},
   "outputs": [
    {
     "name": "stderr",
     "output_type": "stream",
     "text": [
      "  0%|          | 0/2 [00:00<?, ?it/s]/mnt/workspace/.local/lib/python3.5/site-packages/torch/storage.py:34: FutureWarning: pickle support for Storage will be removed in 1.5. Use `torch.save` instead\n",
      "  warnings.warn(\"pickle support for Storage will be removed in 1.5. Use `torch.save` instead\", FutureWarning)\n",
      "100%|██████████| 2/2 [05:41<00:00, 170.72s/it]\n",
      "100%|██████████| 2/2 [06:37<00:00, 198.98s/it]\n",
      "100%|██████████| 2/2 [05:00<00:00, 150.21s/it]"
     ]
    },
    {
     "name": "stdout",
     "output_type": "stream",
     "text": [
      "Training time :\n",
      "00:17:28.68\n"
     ]
    },
    {
     "name": "stderr",
     "output_type": "stream",
     "text": [
      "\n"
     ]
    }
   ],
   "source": [
    "#vous pourrez changer la resample_values_list\n",
    "start = time.time()\n",
    "resample_values_list = [params['resample_to']-1,params['resample_to'],params['resample_to']+1]\n",
    "mean_AUCs, var_AUCs = tuneResampleValue(resample_values_list)\n",
    "end  = time.time()\n",
    "hours, rem = divmod(end-start, 3600)\n",
    "minutes, seconds = divmod(rem, 60)\n",
    "print(\"Training time :\")\n",
    "print(\"{:0>2}:{:0>2}:{:05.2f}\".format(int(hours),int(minutes),seconds))\n"
   ]
  },
  {
   "cell_type": "code",
   "execution_count": 23,
   "metadata": {},
   "outputs": [
    {
     "name": "stdout",
     "output_type": "stream",
     "text": [
      "{'368': 0.6, '369': 0.56, '370': 0.52}\n"
     ]
    }
   ],
   "source": [
    "print(mean_AUCs)"
   ]
  },
  {
   "cell_type": "code",
   "execution_count": 24,
   "metadata": {},
   "outputs": [
    {
     "name": "stdout",
     "output_type": "stream",
     "text": [
      "{'368': 0.06, '369': 0.05, '370': 0.06}\n"
     ]
    }
   ],
   "source": [
    "print(var_AUCs)"
   ]
  },
  {
   "cell_type": "markdown",
   "metadata": {},
   "source": [
    "Mon code a l'air de marcher, mais la grid search est assez lente... tout ce temps pour seulement 1 hyperparamètre, 3 valeurs possibles, 2 subjects... \n",
    "Après, peut être que même les autres méthodes dont parlait le prof sont lentes ceci dit..."
   ]
  },
  {
   "cell_type": "markdown",
   "metadata": {},
   "source": [
    "## Training the model with the proper hyper parameters"
   ]
  },
  {
   "cell_type": "markdown",
   "metadata": {},
   "source": [
    "With the hyperparameter tuning above (grid  search ou autre), we can create the real model:"
   ]
  },
  {
   "cell_type": "code",
   "execution_count": 25,
   "metadata": {},
   "outputs": [
    {
     "name": "stderr",
     "output_type": "stream",
     "text": [
      "  0%|          | 0/2 [00:00<?, ?it/s]/mnt/workspace/.local/lib/python3.5/site-packages/torch/storage.py:34: FutureWarning: pickle support for Storage will be removed in 1.5. Use `torch.save` instead\n",
      "  warnings.warn(\"pickle support for Storage will be removed in 1.5. Use `torch.save` instead\", FutureWarning)\n",
      "100%|██████████| 2/2 [03:53<00:00, 116.71s/it]\n"
     ]
    }
   ],
   "source": [
    "best_resample_value = 370 #best value in the mean_AUCs dict (with only 2 subjects)\n",
    "subjects = createSubjectsWithResample(best_resample_value)\n",
    "subjs_test_stats = {}\n",
    "train(subjects, subjs_test_stats, test_on_last_block=True)\n"
   ]
  },
  {
   "cell_type": "code",
   "execution_count": 26,
   "metadata": {},
   "outputs": [
    {
     "name": "stdout",
     "output_type": "stream",
     "text": [
      "AUC mean: 0.48, AUC var: 0.10\n"
     ]
    }
   ],
   "source": [
    "write_results_table(subjs_test_stats, path_to_exp=experiment_res_dir)\n",
    "with io.open(\"res/res.txt\", \"r\", encoding=\"utf-8\") as my_file:\n",
    "    results = my_file.read() \n",
    "model_val_AUC_MEAN = re.findall(\"MEAN:.*±\", results)[0][5:-1]\n",
    "model_val_AUC_var = re.findall(\"±.*\", results)[0][1:]\n",
    "print(\"AUC mean: \"+model_val_AUC_MEAN+\", AUC var: \"+model_val_AUC_var)"
   ]
  },
  {
   "cell_type": "markdown",
   "metadata": {},
   "source": [
    "## Model explanation (optional)"
   ]
  },
  {
   "cell_type": "markdown",
   "metadata": {},
   "source": [
    "The models previously created are in res folder.  Each model (for each subject) is in the \"naive_model\" folder of each subject.\n",
    "We can have a look at them."
   ]
  },
  {
   "cell_type": "markdown",
   "metadata": {},
   "source": [
    "We will load the model and study with t-sne the repartion of the last dense layer."
   ]
  },
  {
   "cell_type": "markdown",
   "metadata": {},
   "source": [
    "J'ai commencé à faire un truc pour charger le modèle entraînné dans le notebook, pour accèder à la dernière flatten layer (étape juste avant la répartition par classe), afin d'appliquer du t-sne.\n",
    "Vous pouvez bien sûr changer/améliorer/supprimer. Mais, si vous voulez faire du t-sne, le code que j'ai fait peut vous aider."
   ]
  },
  {
   "cell_type": "code",
   "execution_count": 27,
   "metadata": {},
   "outputs": [],
   "source": [
    "import torch"
   ]
  },
  {
   "cell_type": "markdown",
   "metadata": {},
   "source": [
    "**1) import model state dict from the file**"
   ]
  },
  {
   "cell_type": "code",
   "execution_count": 31,
   "metadata": {},
   "outputs": [],
   "source": [
    "PATH = 'res/25/naive_model'\n",
    "model_25_state_dict = torch.load(PATH)"
   ]
  },
  {
   "cell_type": "code",
   "execution_count": 32,
   "metadata": {},
   "outputs": [
    {
     "name": "stdout",
     "output_type": "stream",
     "text": [
      "16\n",
      "odict_keys(['conv1.weight', 'batchnorm1.weight', 'batchnorm1.bias', 'batchnorm1.running_mean', 'batchnorm1.running_var', 'batchnorm1.num_batches_tracked', 'depthwise1.weight', 'batchnorm2.weight', 'batchnorm2.bias', 'batchnorm2.running_mean', 'batchnorm2.running_var', 'batchnorm2.num_batches_tracked', 'separable_block2.depthwise.weight', 'separable_block2.pointwise.weight', 'dense.weight', 'dense.bias'])\n"
     ]
    }
   ],
   "source": [
    "#print(model_25) #montre tous les weights- il y en a beaucoup \n",
    "print(len(model_25_state_dict))\n",
    "print(model_25_state_dict.keys())"
   ]
  },
  {
   "cell_type": "markdown",
   "metadata": {},
   "source": [
    "**2) Import the data on which we will do visualisation**"
   ]
  },
  {
   "cell_type": "code",
   "execution_count": 35,
   "metadata": {},
   "outputs": [
    {
     "name": "stdout",
     "output_type": "stream",
     "text": [
      "(329, 111, 19)\n",
      "(329,)\n",
      "float64 uint8\n"
     ]
    }
   ],
   "source": [
    "#the user corresponding to the loaded model\n",
    "X,y = subjects[25]\n",
    "print(X.shape) #EEG epochs (Trials) x Time x Channels\n",
    "print(y.shape)\n",
    "print(X.dtype, y.dtype)"
   ]
  },
  {
   "cell_type": "code",
   "execution_count": 37,
   "metadata": {},
   "outputs": [
    {
     "name": "stdout",
     "output_type": "stream",
     "text": [
      "(329, 1, 19, 111)\n",
      "(329,)\n"
     ]
    }
   ],
   "source": [
    "#/!\\ reshape data is necessary to feed the model (cf. cv_per_subj_test and train functions )\n",
    "x = X.transpose(0, 2, 1)[:, np.newaxis, :, :]\n",
    "print(x.shape) #(trials, kernels, channels, samples)\n",
    "print(y.shape)"
   ]
  },
  {
   "cell_type": "markdown",
   "metadata": {},
   "source": [
    "**3) Import a model, and load the state_dict trained weights in the model**"
   ]
  },
  {
   "cell_type": "code",
   "execution_count": 41,
   "metadata": {},
   "outputs": [],
   "source": [
    "from baseline_src.model_torch import EEGNet_experimental"
   ]
  },
  {
   "cell_type": "code",
   "execution_count": 44,
   "metadata": {},
   "outputs": [
    {
     "data": {
      "text/plain": [
       "EEGNet_experimental(\n",
       "  (conv1): Conv2d(1, 12, kernel_size=(1, 64), stride=(1, 1), padding=(0, 32), bias=False)\n",
       "  (batchnorm1): BatchNorm2d(12, eps=1e-05, momentum=0.1, affine=True, track_running_stats=True)\n",
       "  (depthwise1): Conv2d(12, 36, kernel_size=(19, 1), stride=(1, 1), groups=12, bias=False)\n",
       "  (batchnorm2): BatchNorm2d(36, eps=1e-05, momentum=0.1, affine=True, track_running_stats=True)\n",
       "  (activation_block1): ELU(alpha=1.0)\n",
       "  (avg_pool_block1): AdaptiveAvgPool2d(output_size=(1, 28))\n",
       "  (dropout_block1): Dropout(p=0.52, inplace=False)\n",
       "  (separable_block2): deepwise_separable_conv(\n",
       "    (depthwise): Conv2d(36, 36, kernel_size=(1, 16), stride=(1, 1), padding=(0, 8), groups=36, bias=False)\n",
       "    (pointwise): Conv2d(36, 36, kernel_size=(1, 1), stride=(1, 1), bias=False)\n",
       "  )\n",
       "  (activation_block2): ELU(alpha=1.0)\n",
       "  (avg_pool_block2): AdaptiveAvgPool2d(output_size=(1, 7))\n",
       "  (dropout_block2): Dropout(p=0.52, inplace=False)\n",
       "  (flatten): Flatten()\n",
       "  (dense): Linear(in_features=252, out_features=2, bias=True)\n",
       ")"
      ]
     },
     "execution_count": 44,
     "metadata": {},
     "output_type": "execute_result"
    }
   ],
   "source": [
    "#'''Data shape = (trials, kernels, channels, samples), which for the\n",
    "#        input layer, will be (trials, 1, channels, samples).'''\n",
    "\n",
    "#Init the model \n",
    "\n",
    "kernLength1 = params.get('kernLength1',64)\n",
    "kernLength2 = params.get('kernLength2',16)\n",
    "F2 = params.get('F2',params['F1']*params['D'])\n",
    "    \n",
    "model_25 = EEGNet_experimental(nb_classes=2, Chans=x.shape[2], Samples=x.shape[3],\n",
    "                               dropoutRates=(params['dropoutRate1'], params['dropoutRate1']),\n",
    "                               kernLength1=kernLength1, kernLength2=kernLength2, poolKern1=4,\n",
    "                               poolKern2=8,\n",
    "                               F1=params['F1'],\n",
    "                               D=params['D'], F2=F2)\n",
    "\n",
    "# using gpu if possible (as we are not going to train anymore, but just predict, not very important)\n",
    "device = torch.device('cuda:0' if torch.cuda.is_available() else 'cpu')\n",
    "model_25.to(device)"
   ]
  },
  {
   "cell_type": "code",
   "execution_count": 47,
   "metadata": {},
   "outputs": [
    {
     "data": {
      "text/plain": [
       "<All keys matched successfully>"
      ]
     },
     "execution_count": 47,
     "metadata": {},
     "output_type": "execute_result"
    }
   ],
   "source": [
    "model_25.load_state_dict(model_25_state_dict) #this way, we can use the pretrained weights in our model"
   ]
  },
  {
   "cell_type": "markdown",
   "metadata": {},
   "source": [
    "**4) Feeding the model to fetch the features before the last layer/classifier**"
   ]
  },
  {
   "cell_type": "markdown",
   "metadata": {},
   "source": [
    "Dans le modèle, la prédiction est séparé en 2 fonctions : forward_features, pour avoir les features sur lesquelles seront appliquées la dernière dense layer, et forward, qui appelle forward_features, puis applique la dernière dense layer. C'est assez pratique du coup de récupérer les features sur lesquelles on veut appliquer t-sne"
   ]
  },
  {
   "cell_type": "code",
   "execution_count": 50,
   "metadata": {},
   "outputs": [],
   "source": [
    "x_tensor = torch.from_numpy(x).float()\n",
    "features,_ = model_25.forward_features(x_tensor)"
   ]
  },
  {
   "cell_type": "code",
   "execution_count": 54,
   "metadata": {},
   "outputs": [
    {
     "name": "stdout",
     "output_type": "stream",
     "text": [
      "(329, 252)\n"
     ]
    }
   ],
   "source": [
    "flatten_feats = model_25.flatten(features).detach().numpy() #on flatten quand même, mais on applique pas la dense layer qui output la classe\n",
    "print(flatten_feats.shape)"
   ]
  },
  {
   "cell_type": "markdown",
   "metadata": {},
   "source": [
    "**5) Finally, applying t-SNE with the fetched flattened features and y**"
   ]
  },
  {
   "cell_type": "code",
   "execution_count": 55,
   "metadata": {},
   "outputs": [
    {
     "name": "stdout",
     "output_type": "stream",
     "text": [
      "(329, 252) (329,)\n"
     ]
    }
   ],
   "source": [
    "print(flatten_feats.shape, y.shape)"
   ]
  },
  {
   "cell_type": "code",
   "execution_count": 56,
   "metadata": {},
   "outputs": [],
   "source": [
    "from sklearn.manifold import TSNE"
   ]
  },
  {
   "cell_type": "code",
   "execution_count": 58,
   "metadata": {},
   "outputs": [
    {
     "name": "stdout",
     "output_type": "stream",
     "text": [
      "(329, 2)\n"
     ]
    }
   ],
   "source": [
    "X_embedded = TSNE(n_components=2).fit_transform(flatten_feats,y)\n",
    "print(X_embedded.shape)"
   ]
  },
  {
   "cell_type": "code",
   "execution_count": 80,
   "metadata": {},
   "outputs": [],
   "source": [
    "import matplotlib.pyplot as plt\n",
    "import seaborn as sns\n",
    "%matplotlib inline #ça ne s'affichait pas si je ne mettait pas ça."
   ]
  },
  {
   "cell_type": "code",
   "execution_count": 81,
   "metadata": {},
   "outputs": [
    {
     "data": {
      "text/plain": [
       "'module://ipykernel.pylab.backend_inline'"
      ]
     },
     "execution_count": 81,
     "metadata": {},
     "output_type": "execute_result"
    }
   ],
   "source": [
    "plt.get_backend() "
   ]
  },
  {
   "cell_type": "code",
   "execution_count": 87,
   "metadata": {},
   "outputs": [
    {
     "data": {
      "text/plain": [
       "<matplotlib.legend.Legend at 0x7fee76a50160>"
      ]
     },
     "execution_count": 87,
     "metadata": {},
     "output_type": "execute_result"
    },
    {
     "data": {
      "image/png": "[encoded data removed]",
      "text/plain": [
       "<Figure size 432x288 with 1 Axes>"
      ]
     },
     "metadata": {
      "image/png": {
       "height": 277,
       "width": 392
      }
     },
     "output_type": "display_data"
    }
   ],
   "source": [
    "sns.scatterplot(x=X_embedded.T[0], y=X_embedded.T[1], hue=y)\n",
    "plt.title(\"t-SNE applied to the features\")\n",
    "plt.xlabel(\"coordinate 0 of the embedded space\")\n",
    "plt.ylabel(\"coordinate 1 of the embedded space\")\n",
    "plt.legend(title=\"Target type\")"
   ]
  },
  {
   "cell_type": "markdown",
   "metadata": {},
   "source": [
    "It unfortunately seems also very noisy... the model seems to have difficulties to \"separate\" the target and non target inputs."
   ]
  },
  {
   "cell_type": "markdown",
   "metadata": {},
   "source": [
    "/!\\ Même si le modèle est à priori naif donc possiblement \"noisy\", et que des PCA préliminaires à une t-sne directement sur les flattened-features peuvent aider, n'hésitez pas à revoir mon code, j'ai peu être fait un truc très bête qui expliquerai ce graphe très \"noisy\" :'("
   ]
  },
  {
   "cell_type": "markdown",
   "metadata": {},
   "source": [
    "## Extensions and hints (optional)"
   ]
  },
  {
   "cell_type": "markdown",
   "metadata": {},
   "source": [
    "Si vous êtes des pros de Torch, vous pouvez faire des tests et changer/ajouter des layers de model_torch si vous voulez"
   ]
  }
 ],
 "metadata": {
  "kernelspec": {
   "display_name": "Python 3",
   "language": "python",
   "name": "python3"
  },
  "language_info": {
   "codemirror_mode": {
    "name": "ipython",
    "version": 3
   },
   "file_extension": ".py",
   "mimetype": "text/x-python",
   "name": "python",
   "nbconvert_exporter": "python",
   "pygments_lexer": "ipython3",
   "version": "3.7.0"
  }
 },
 "nbformat": 4,
 "nbformat_minor": 2
}
