{
 "cells": [
  {
   "cell_type": "markdown",
   "metadata": {},
   "source": [
    "<h1 style=\"text-align:center\">Deep Learning   </h1>\n",
    "<h1 style=\"text-align:center\"> Lab Session 2 - 1.5 Hours </h1>\n",
    "<h1 style=\"text-align:center\"> Convolutional Neural Network (CNN) for Handwritten Digits Recognition</h1>"
   ]
  },
  {
   "cell_type": "markdown",
   "metadata": {},
   "source": [
    "The aim of this session is to practice with Convolutional Neural Networks. Each group should fill and run appropriate notebook cells. \n",
    "\n",
    "Follow instructions step by step until the end and submit your complete notebook as an archive (tar -cf groupXnotebook.tar DL_lab2/).\n",
    "\n",
    "Do not forget to run all your cells before generating your final report and do not forget to include the names of all participants in the group. The lab session should be completed by May 29th 2019 (23:59:59 CET)."
   ]
  },
  {
   "cell_type": "markdown",
   "metadata": {},
   "source": [
    "# Introduction"
   ]
  },
  {
   "cell_type": "markdown",
   "metadata": {},
   "source": [
    "In the last Lab Session, you built a Multilayer Perceptron for recognizing hand-written digits from the MNIST data-set. The best achieved accuracy on testing data was about 97%.  Can  you do better than these results using a deep CNN ?\n",
    "In this Lab Session, you will build, train and optimize in TensorFlow one of the early Convolutional Neural Networks,  **LeNet-5**, to go to  more than 99% of accuracy. \n",
    "\n",
    "\n",
    "\n",
    "\n"
   ]
  },
  {
   "cell_type": "markdown",
   "metadata": {},
   "source": [
    "# Load MNIST Data in TensorFlow\n",
    "Run the cell below to load the MNIST data that comes with TensorFlow. You will use this data in **Section 1** and **Section 2**."
   ]
  },
  {
   "cell_type": "code",
   "execution_count": 1,
   "metadata": {},
   "outputs": [
    {
     "name": "stdout",
     "output_type": "stream",
     "text": [
      "WARNING:tensorflow:From <ipython-input-1-cf1c668546a0>:4: read_data_sets (from tensorflow.contrib.learn.python.learn.datasets.mnist) is deprecated and will be removed in a future version.\n",
      "Instructions for updating:\n",
      "Please use alternatives such as official/mnist/dataset.py from tensorflow/models.\n",
      "WARNING:tensorflow:From /usr/local/lib/python3.5/dist-packages/tensorflow/contrib/learn/python/learn/datasets/mnist.py:260: maybe_download (from tensorflow.contrib.learn.python.learn.datasets.base) is deprecated and will be removed in a future version.\n",
      "Instructions for updating:\n",
      "Please write your own downloading logic.\n",
      "WARNING:tensorflow:From /usr/local/lib/python3.5/dist-packages/tensorflow/contrib/learn/python/learn/datasets/mnist.py:262: extract_images (from tensorflow.contrib.learn.python.learn.datasets.mnist) is deprecated and will be removed in a future version.\n",
      "Instructions for updating:\n",
      "Please use tf.data to implement this functionality.\n",
      "Extracting MNIST_data/train-images-idx3-ubyte.gz\n",
      "WARNING:tensorflow:From /usr/local/lib/python3.5/dist-packages/tensorflow/contrib/learn/python/learn/datasets/mnist.py:267: extract_labels (from tensorflow.contrib.learn.python.learn.datasets.mnist) is deprecated and will be removed in a future version.\n",
      "Instructions for updating:\n",
      "Please use tf.data to implement this functionality.\n",
      "Extracting MNIST_data/train-labels-idx1-ubyte.gz\n",
      "WARNING:tensorflow:From /usr/local/lib/python3.5/dist-packages/tensorflow/contrib/learn/python/learn/datasets/mnist.py:110: dense_to_one_hot (from tensorflow.contrib.learn.python.learn.datasets.mnist) is deprecated and will be removed in a future version.\n",
      "Instructions for updating:\n",
      "Please use tf.one_hot on tensors.\n",
      "Extracting MNIST_data/t10k-images-idx3-ubyte.gz\n",
      "Extracting MNIST_data/t10k-labels-idx1-ubyte.gz\n",
      "WARNING:tensorflow:From /usr/local/lib/python3.5/dist-packages/tensorflow/contrib/learn/python/learn/datasets/mnist.py:290: DataSet.__init__ (from tensorflow.contrib.learn.python.learn.datasets.mnist) is deprecated and will be removed in a future version.\n",
      "Instructions for updating:\n",
      "Please use alternatives such as official/mnist/dataset.py from tensorflow/models.\n",
      "Image Shape: (784,)\n",
      "Training Set:   55000 samples\n",
      "Validation Set: 5000 samples\n",
      "Test Set:       10000 samples\n"
     ]
    }
   ],
   "source": [
    "import tensorflow as tf\n",
    "import numpy as np\n",
    "from tensorflow.examples.tutorials.mnist import input_data\n",
    "mnist = input_data.read_data_sets(\"MNIST_data/\", one_hot=True)\n",
    "X_train, y_train           = mnist.train.images, mnist.train.labels\n",
    "X_validation, y_validation = mnist.validation.images, mnist.validation.labels\n",
    "X_test, y_test             = mnist.test.images, mnist.test.labels\n",
    "print(\"Image Shape: {}\".format(X_train[0].shape))\n",
    "print(\"Training Set:   {} samples\".format(len(X_train)))\n",
    "print(\"Validation Set: {} samples\".format(len(X_validation)))\n",
    "print(\"Test Set:       {} samples\".format(len(X_test)))\n",
    "\n",
    "epsilon = 1e-10 # this is a parameter you will use later"
   ]
  },
  {
   "cell_type": "markdown",
   "metadata": {},
   "source": [
    "# Section 1 : My First Model in TensorFlow"
   ]
  },
  {
   "cell_type": "markdown",
   "metadata": {},
   "source": [
    "Before starting with CNN, let's train and test in TensorFlow the example\n",
    "**y=softmax(Wx+b)** seen in the first lab. \n",
    "\n",
    "This model reaches an accuracy of about 92 %.\n",
    "You will also learn how to launch the TensorBoard https://www.tensorflow.org/get_started/summaries_and_tensorboard to visualize the computation graph, statistics and learning curves. "
   ]
  },
  {
   "cell_type": "markdown",
   "metadata": {},
   "source": [
    "<b> Part 1 </b> : Read carefully the code in the cell below. Run it to perform training. "
   ]
  },
  {
   "cell_type": "code",
   "execution_count": 2,
   "metadata": {},
   "outputs": [
    {
     "name": "stdout",
     "output_type": "stream",
     "text": [
      "Epoch:  01   =====> Loss= 1.288430956\n",
      "Epoch:  02   =====> Loss= 0.732285627\n",
      "Epoch:  03   =====> Loss= 0.600207632\n",
      "Epoch:  04   =====> Loss= 0.536525863\n",
      "Epoch:  05   =====> Loss= 0.497833625\n",
      "Epoch:  06   =====> Loss= 0.471296848\n",
      "Epoch:  07   =====> Loss= 0.451226831\n",
      "Epoch:  08   =====> Loss= 0.435932527\n",
      "Epoch:  09   =====> Loss= 0.423315858\n",
      "Epoch:  10   =====> Loss= 0.413183023\n",
      "Epoch:  11   =====> Loss= 0.404133027\n",
      "Epoch:  12   =====> Loss= 0.396702312\n",
      "Epoch:  13   =====> Loss= 0.390097731\n",
      "Epoch:  14   =====> Loss= 0.384495500\n",
      "Epoch:  15   =====> Loss= 0.379028125\n",
      "Epoch:  16   =====> Loss= 0.374415280\n",
      "Epoch:  17   =====> Loss= 0.370363047\n",
      "Epoch:  18   =====> Loss= 0.366507495\n",
      "Epoch:  19   =====> Loss= 0.362890023\n",
      "Epoch:  20   =====> Loss= 0.359804173\n",
      "Epoch:  21   =====> Loss= 0.356594868\n",
      "Epoch:  22   =====> Loss= 0.353948794\n",
      "Epoch:  23   =====> Loss= 0.351219322\n",
      "Epoch:  24   =====> Loss= 0.348531387\n",
      "Epoch:  25   =====> Loss= 0.346512246\n",
      "Epoch:  26   =====> Loss= 0.344198551\n",
      "Epoch:  27   =====> Loss= 0.342311278\n",
      "Epoch:  28   =====> Loss= 0.340331978\n",
      "Epoch:  29   =====> Loss= 0.338332521\n",
      "Epoch:  30   =====> Loss= 0.336751158\n",
      "Epoch:  31   =====> Loss= 0.335111374\n",
      "Epoch:  32   =====> Loss= 0.333440984\n",
      "Epoch:  33   =====> Loss= 0.331823604\n",
      "Epoch:  34   =====> Loss= 0.330386487\n",
      "Epoch:  35   =====> Loss= 0.329195083\n",
      "Epoch:  36   =====> Loss= 0.327849647\n",
      "Epoch:  37   =====> Loss= 0.326273131\n",
      "Epoch:  38   =====> Loss= 0.325284021\n",
      "Epoch:  39   =====> Loss= 0.324188222\n",
      "Epoch:  40   =====> Loss= 0.322835448\n",
      "Optimization Finished!\n",
      "Accuracy: 0.9153\n"
     ]
    }
   ],
   "source": [
    "#STEP 1\n",
    "\n",
    "# Parameters\n",
    "learning_rate = 0.01\n",
    "training_epochs = 40\n",
    "batch_size = 128\n",
    "display_step = 1\n",
    "logs_path = 'log_files/'  # useful for tensorboard\n",
    "\n",
    "# tf Graph Input:  mnist data image of shape 28*28=784\n",
    "x = tf.placeholder(tf.float32, [None, 784], name='InputData')\n",
    "# 0-9 digits recognition,  10 classes\n",
    "y = tf.placeholder(tf.float32, [None, 10], name='LabelData')\n",
    "\n",
    "# Set model weights\n",
    "W = tf.Variable(tf.zeros([784, 10]), name='Weights')\n",
    "b = tf.Variable(tf.zeros([10]), name='Bias')\n",
    "\n",
    "# Construct model and encapsulating all ops into scopes, making Tensorboard's Graph visualization more convenient\n",
    "with tf.name_scope('Model'):\n",
    "    # Model\n",
    "    pred = tf.nn.softmax(tf.matmul(x, W) + b) # Softmax\n",
    "with tf.name_scope('Loss'):\n",
    "    # Minimize error using cross entropy\n",
    "    # We use tf.clip_by_value to avoid having too low numbers in the log function\n",
    "    cost = tf.reduce_mean(-tf.reduce_sum(y*tf.log(tf.clip_by_value(pred, epsilon, 1.0)), reduction_indices=1))\n",
    "with tf.name_scope('SGD'):\n",
    "    # Gradient Descent\n",
    "    optimizer = tf.train.GradientDescentOptimizer(learning_rate).minimize(cost)\n",
    "with tf.name_scope('Accuracy'):\n",
    "    # Accuracy\n",
    "    acc = tf.equal(tf.argmax(pred, 1), tf.argmax(y, 1))\n",
    "    acc = tf.reduce_mean(tf.cast(acc, tf.float32))\n",
    "\n",
    "# Initializing the variables\n",
    "init = tf.global_variables_initializer()\n",
    "# Create a summary to monitor cost tensor\n",
    "tf.summary.scalar(\"Loss\", cost)\n",
    "# Create a summary to monitor accuracy tensor\n",
    "tf.summary.scalar(\"Accuracy\", acc)\n",
    "# Merge all summaries into a single op\n",
    "merged_summary_op = tf.summary.merge_all()\n",
    "\n",
    "#STEP 2 \n",
    "\n",
    "# Launch the graph for training\n",
    "with tf.Session() as sess:\n",
    "    sess.run(init)\n",
    "    # op to write logs to Tensorboard\n",
    "    summary_writer = tf.summary.FileWriter(logs_path, graph=tf.get_default_graph())\n",
    "    # Training cycle\n",
    "    for epoch in range(training_epochs):\n",
    "        avg_cost = 0.\n",
    "        total_batch = int(mnist.train.num_examples/batch_size)\n",
    "        # Loop over all batches\n",
    "        for i in range(total_batch):\n",
    "            batch_xs, batch_ys = mnist.train.next_batch(batch_size, shuffle=(i==0))\n",
    "            # Run optimization op (backprop), cost op (to get loss value)\n",
    "            # and summary nodes\n",
    "            _, c, summary = sess.run([optimizer, cost, merged_summary_op],\n",
    "                                     feed_dict={x: batch_xs, y: batch_ys})\n",
    "            # Write logs at every iteration\n",
    "            summary_writer.add_summary(summary, epoch * total_batch + i)\n",
    "            # Compute average loss\n",
    "            avg_cost += c / total_batch\n",
    "        # Display logs per epoch step\n",
    "        if (epoch+1) % display_step == 0:\n",
    "            print(\"Epoch: \", '%02d' % (epoch+1), \"  =====> Loss=\", \"{:.9f}\".format(avg_cost))\n",
    "\n",
    "    print(\"Optimization Finished!\")\n",
    "    summary_writer.flush()\n",
    "\n",
    "    # Test model\n",
    "    # Calculate accuracy\n",
    "    print(\"Accuracy:\", acc.eval({x: mnist.test.images, y: mnist.test.labels}))"
   ]
  },
  {
   "cell_type": "markdown",
   "metadata": {},
   "source": [
    "<b> Part 2  </b>: Using Tensorboard, we can  now visualize the created graph, giving you an overview of your architecture and how all of the major components  are connected. You can also see and analyse the learning curves. \n",
    "\n",
    "To launch tensorBoard: \n",
    "- Open a Terminal and run the command line **\"tensorboard --logdir=lab_2/log_files/\"**\n",
    "- Click on \"Tensorboard web interface\" in Zoe  \n",
    "\n",
    "\n",
    "Enjoy It !! \n"
   ]
  },
  {
   "cell_type": "markdown",
   "metadata": {},
   "source": [
    "# Section 2 : The 99% MNIST Challenge !"
   ]
  },
  {
   "cell_type": "markdown",
   "metadata": {},
   "source": [
    "<b> Part 1 </b> : LeNet5 implementation"
   ]
  },
  {
   "cell_type": "markdown",
   "metadata": {},
   "source": [
    "You are now familar with **TensorFlow** and **TensorBoard**. In this section, you are to build, train and test the baseline [LeNet-5](http://yann.lecun.com/exdb/lenet/)  model for the MNIST digits recognition problem.  \n",
    "\n",
    "Then, you will make some optimizations to get more than 99% of accuracy.\n",
    "\n",
    "For more informations, have a look at this list of results: http://rodrigob.github.io/are_we_there_yet/build/classification_datasets_results.html"
   ]
  },
  {
   "cell_type": "markdown",
   "metadata": {},
   "source": [
    "\n",
    "<img src=\"lenet.png\" width=\"800\" height=\"600\" align=\"center\">\n",
    "\n",
    "\n",
    "\n",
    "\n",
    "\n",
    "The LeNet architecture takes a 28x28xC image as input, where C is the number of color channels. Since MNIST images are grayscale, C is 1 in this case.\n",
    "\n",
    "--------------------------\n",
    "**Layer 1 - Convolution (5x5):** The output shape should be 28x28x6. **Activation:** ReLU. **MaxPooling:** The output shape should be 14x14x6.\n",
    "\n",
    "**Layer 2 - Convolution (5x5):** The output shape should be 10x10x16. **Activation:** ReLU. **MaxPooling:** The output shape should be 5x5x16.\n",
    "\n",
    "**Flatten:** Flatten the output shape of the final pooling layer such that it's 1D instead of 3D.  You may need to use tf.reshape.\n",
    "\n",
    "**Layer 3 - Fully Connected:** This should have 120 outputs. **Activation:** ReLU.\n",
    "\n",
    "**Layer 4 - Fully Connected:** This should have 84 outputs. **Activation:** ReLU.\n",
    "\n",
    "**Layer 5 - Fully Connected:** This should have 10 outputs. **Activation:** softmax.\n"
   ]
  },
  {
   "cell_type": "markdown",
   "metadata": {},
   "source": [
    "<b> Question 2.1.1 </b>  Implement the Neural Network architecture described above.\n",
    "For that, your will use classes and functions from  https://www.tensorflow.org/api_docs/python/tf/nn. \n",
    "\n",
    "We give you some helper functions for weigths and bias initilization. Also you can refer to section 1. \n"
   ]
  },
  {
   "cell_type": "code",
   "execution_count": 3,
   "metadata": {},
   "outputs": [],
   "source": [
    "# Functions for weigths and bias initilization \n",
    "def weight_variable(shape):\n",
    "  initial = tf.truncated_normal(shape, stddev=0.1)\n",
    "  return tf.Variable(initial)\n",
    "\n",
    "def bias_variable(shape):\n",
    "  initial = tf.constant(0., shape=shape)\n",
    "  return tf.Variable(initial)"
   ]
  },
  {
   "cell_type": "code",
   "execution_count": 4,
   "metadata": {},
   "outputs": [],
   "source": [
    "def conv2d(x, W, b, strides=1, padding_ = 'SAME'):  #helper function to define convolution layers\n",
    "    x = tf.nn.conv2d(x, W, strides=[1,1,1,1], padding=padding_)\n",
    "    #x = tf.nn.bias_add(x, b)\n",
    "    return tf.nn.relu(x)"
   ]
  },
  {
   "cell_type": "code",
   "execution_count": 5,
   "metadata": {},
   "outputs": [],
   "source": [
    "\n",
    "def LeNet5_Model(image):    \n",
    "    # your inmplementation goes here\n",
    "    shape = image.shape\n",
    "    #preprocess image : size = (?, 784) to size (?, 28, 28, 1) \n",
    "    \n",
    "    \n",
    "    weights = {\n",
    "    # Convolution Layers\n",
    "    'Wc1': weight_variable((5,5,1,6)), \n",
    "    'Wc2': weight_variable((5,5,6,16)) ,\n",
    "    \n",
    "    # Dense Layers\n",
    "    'Wd1': weight_variable((5*5*16,120)),\n",
    "    'Wd2': weight_variable((120,84)),\n",
    "    'Wd3': weight_variable((84,10))\n",
    "    }\n",
    "                           \n",
    "    biases = {\n",
    "    # Convolution Layers\n",
    "    'bc1': bias_variable((1,6)), #size = 1 ?\n",
    "    'bc2': bias_variable((1,16)) ,\n",
    "    \n",
    "    # Dense Layers\n",
    "    'bd1': bias_variable((1,120)),\n",
    "    'bd2': bias_variable((1,84)),\n",
    "    'bd3': bias_variable((1,10))\n",
    "    }\n",
    "        \n",
    "    #layer 1\n",
    "    conv1  = conv2d(image, weights['Wc1'], biases['bc1']) \n",
    "    pool1 = tf.nn.max_pool(conv1, ksize=[1,2,2,1], strides=[1,2,2,1], padding='SAME') \n",
    "        #layer1  =tf.nn.conv2d( image, tf.constant([filter_height, filter_width, in_channels, out_channels]), strides, padding, data_format='NHWC', dilations=None, name=None)\n",
    "        #model.add(layers.Conv2D(6, (5, 5), activation='relu', input_shape=shape))\n",
    "        #model.add(layers.MaxPooling2D((2, 2)))\n",
    "    \n",
    "    #layer 2\n",
    "    conv2  = conv2d(pool1, weights['Wc2'], biases['bc2'], strides=1, padding_ = 'VALID') \n",
    "    pool2 = tf.nn.max_pool(conv2, ksize=[1,2,2,1], strides=[1,2,2,1], padding='SAME') \n",
    "    flattened = tf.reshape(pool2, [-1, 5*5*16]) \n",
    "        # model.add(layers.Conv2D(16, (5, 5), activation='relu',  padding='same', input_shape=(14,14,6)))\n",
    "        # model.add(layers.MaxPooling2D((2, 2)))\n",
    "        #model.add(layers.Flatten())\n",
    "        # model.add(layers.Reshape((5*5*16, 1), input_shape=(5*5*16,)))\n",
    "    \n",
    "    #layer 3\n",
    "    dense1 =  tf.nn.relu(tf.add(tf.matmul(flattened, weights['Wd1']), biases['bd1']))\n",
    "        #model.add(layers.Dense(120, activation='relu')) #, input_shape=(10, 10)))\n",
    "    \n",
    "    #layer 4\n",
    "    dense2 =  tf.nn.relu(tf.add(tf.matmul(dense1, weights['Wd2']), biases['bd2']))\n",
    "        #model.add(layers.Dense(84, activation='relu'))\n",
    "    \n",
    "    #layer 5\n",
    "    pred = tf.nn.softmax(tf.matmul(dense2,  weights['Wd3']) + biases['bd3'])\n",
    "        #model.add(layers.Dense(10, activation='relu'))         \n",
    "        #pred = tf.nn.softmax(tf.matmul(x, W) + b) # Softmax\n",
    "        \n",
    "    return pred\n",
    "                         \n",
    " #-------------------- KERAS ---------------------------------------   \n",
    "   # model = models.Sequential()\n",
    "    \n",
    "    #layer 1\n",
    "    #model.add(layers.Conv2D(6, (5, 5), activation='relu', input_shape=shape))\n",
    "    #model.add(layers.MaxPooling2D((2, 2)))\n",
    "    \n",
    "    #layer 2\n",
    "   # model.add(layers.Conv2D(16, (5, 5), activation='relu',  padding='same', input_shape=(14,14,6)))\n",
    "   # model.add(layers.MaxPooling2D((2, 2)))\n",
    "    #model.add(layers.Flatten())\n",
    "   # model.add(layers.Reshape((5*5*16, 1), input_shape=(5*5*16,)))\n",
    "    \n",
    "    #layer 3\n",
    "    #model.add(layers.Dense(120, activation='relu')) #, input_shape=(10, 10)))\n",
    "    \n",
    "    #layer 4\n",
    "    #model.add(layers.Dense(84, activation='relu'))\n",
    "    \n",
    "    #layer 5\n",
    "    #model.add(layers.Dense(10, activation='relu')) \n",
    "  #----------------------------TENSORFLOW CORE --------------------------------------\n"
   ]
  },
  {
   "cell_type": "markdown",
   "metadata": {},
   "source": [
    "<b> Question 2.1.2. </b>  Calculate the number of parameters of this model "
   ]
  },
  {
   "cell_type": "markdown",
   "metadata": {},
   "source": [
    " Your answer goes here in details "
   ]
  },
  {
   "cell_type": "markdown",
   "metadata": {},
   "source": [
    "     My answer: nbr_parameters = (5x5)x6 + 16x(5x5) + 16x25x120 + 120x84 + 84x10 = 59470 parameters to train \n",
    "     (it could have been far worse if he had not used convolutions...)"
   ]
  },
  {
   "cell_type": "markdown",
   "metadata": {},
   "source": [
    "<b> Question 2.1.3. </b>  Define your model, its accuracy and the loss function according to the following parameters (you can look at Section 1 to see what is expected):\n",
    "\n",
    "     Learning rate: 0.001\n",
    "     Loss Fucntion: Cross-entropy\n",
    "     Optimizer: tf.train.GradientDescentOptimizer\n",
    "     Number of epochs: 40\n",
    "     Batch size: 128"
   ]
  },
  {
   "cell_type": "code",
   "execution_count": 6,
   "metadata": {},
   "outputs": [],
   "source": [
    "tf.reset_default_graph() # reset the default graph before defining a new model\n",
    "\n",
    "# Parameters\n",
    "learning_rate = 0.001\n",
    "training_epochs = 40\n",
    "batch_size = 128\n",
    "logs_path = 'log_files/'\n",
    "\n",
    "# Model, loss function and accuracy\n",
    "# tf Graph Input:  mnist data image of shape 28*28=784\n",
    "x = tf.placeholder(tf.float32, [None, 28,28,1], name='InputData')\n",
    "# 0-9 digits recognition,  10 classes\n",
    "y = tf.placeholder(tf.float32, [None, 10], name='LabelData')\n",
    "\n",
    "# Set model weights\n",
    "#W = tf.Variable(tf.zeros([784, 10]), name='Weights')\n",
    "#b = tf.Variable(tf.zeros([10]), name='Bias')\n",
    "\n",
    "# Construct model and encapsulating all ops into scopes, making Tensorboard's Graph visualization more convenient\n",
    "with tf.name_scope('Model'):\n",
    "    # Model\n",
    "    pred = LeNet5_Model(x)\n",
    "with tf.name_scope('Loss'):\n",
    "    # Minimize error using cross entropy\n",
    "    # We use tf.clip_by_value to avoid having too low numbers in the log function\n",
    "    cost = tf.reduce_mean(-tf.reduce_sum(y*tf.log(tf.clip_by_value(pred, epsilon, 1.0)), reduction_indices=1))\n",
    "with tf.name_scope('SGD'):\n",
    "    # Gradient Descent\n",
    "    optimizer = tf.train.GradientDescentOptimizer(learning_rate).minimize(cost)\n",
    "    \n",
    "with tf.name_scope('Accuracy'):\n",
    "    # Accuracy\n",
    "    acc = tf.equal(tf.argmax(pred, 1), tf.argmax(y, 1))\n",
    "    acc = tf.reduce_mean(tf.cast(acc, tf.float32)) \n"
   ]
  },
  {
   "cell_type": "markdown",
   "metadata": {},
   "source": [
    "<b> Question 2.1.4. </b>  Implement the evaluation function for accuracy computation "
   ]
  },
  {
   "cell_type": "code",
   "execution_count": 7,
   "metadata": {},
   "outputs": [],
   "source": [
    "def evaluate(logits, labels, sess):\n",
    "    # logits will be the outputs of your model, labels will be one-hot vectors corresponding to the actual labels\n",
    "    # logits and labels are numpy arrays\n",
    "    # this function should return the accuracy of your model\n",
    "    accuracy = sess.run([acc], feed_dict = {pred : logits, y : labels})\n",
    "    \n",
    "    return accuracy"
   ]
  },
  {
   "cell_type": "markdown",
   "metadata": {},
   "source": [
    "<b> Question 2.1.5. </b>  Implement training pipeline and run the training data through it to train the model.\n",
    "\n",
    "- Before each epoch, shuffle the training set. \n",
    "- Print the loss per mini batch and the training/validation accuracy per epoch. (Display results every 100 epochs)\n",
    "- Save the model after training\n",
    "- Print after training the final testing accuracy \n",
    "\n"
   ]
  },
  {
   "cell_type": "code",
   "execution_count": 8,
   "metadata": {},
   "outputs": [
    {
     "name": "stdout",
     "output_type": "stream",
     "text": [
      "Epoch:  04   =====> Loss= 2.134733905\n",
      "Epoch:  08   =====> Loss= 0.586842939\n",
      "Optimization Finished!\n",
      "Accuracy:0.8974\n",
      "--- 167.30340194702148 seconds ---\n"
     ]
    }
   ],
   "source": [
    "# Initializing the variables\n",
    "init = tf.global_variables_initializer()\n",
    "# Create a summary to monitor cost tensor\n",
    "tf.summary.scalar(\"Loss_LeNet-5_SGD\", cost)\n",
    "# Create a summary to monitor accuracy tensor\n",
    "tf.summary.scalar(\"Accuracy_LeNet-5_SGD\", acc)\n",
    "# Merge all summaries into a single op\n",
    "merged_summary_op = tf.summary.merge_all()\n",
    "\n",
    "import time #to check the time\n",
    "\n",
    "\n",
    "# Initializing the variables\n",
    "def train(init, sess, logs_path, n_epochs, batch_size, optimizer, cost, merged_summary_op):\n",
    "    # optimizer and cost are the same kinds of objects as in Section 1\n",
    "    # Train your model\n",
    "    start_time = time.time()\n",
    "    sess.run(init)\n",
    "    \n",
    "    display_step = 4\n",
    "    # op to write logs to Tensorboard\n",
    "    summary_writer = tf.summary.FileWriter(logs_path, graph=tf.get_default_graph())\n",
    "    # Training cycle\n",
    "    for epoch in range(n_epochs):\n",
    "        avg_cost = 0.\n",
    "        total_batch = int(mnist.train.num_examples/batch_size)\n",
    "        # Loop over all batches\n",
    "        for i in range(total_batch):\n",
    "            batch_xs, batch_ys = mnist.train.next_batch(batch_size, shuffle=(i==0))\n",
    "            batch_xs = batch_xs.reshape((batch_xs.shape[0],28,28,1))\n",
    "            # Run optimization op (backprop), cost op (to get loss value)\n",
    "            # and summary nodes\n",
    "            _, c, summary = sess.run([optimizer, cost, merged_summary_op],\n",
    "                                     feed_dict={x: batch_xs, y: batch_ys})\n",
    "            # Write logs at every iteration\n",
    "            summary_writer.add_summary(summary, epoch * total_batch + i)\n",
    "            # Compute average loss\n",
    "            avg_cost += c / total_batch\n",
    "        # Display logs per epoch step\n",
    "        if (epoch+1) % display_step == 0:\n",
    "            print(\"Epoch: \", '%02d' % (epoch+1), \"  =====> Loss=\", \"{:.9f}\".format(avg_cost))\n",
    "\n",
    "    print(\"Optimization Finished!\")\n",
    "    summary_writer.flush()\n",
    "    \n",
    "    \n",
    "    # Print the accuracy on testing data\n",
    "    labels = mnist.test.labels\n",
    "    input_test = mnist.test.images.reshape((mnist.test.images.shape[0],28,28,1))\n",
    "    logits = np.array(sess.run([pred], feed_dict={x:input_test}))\n",
    "    logits = logits.reshape((logits.shape[1],10))\n",
    "    accuracy = evaluate(logits,labels, sess)\n",
    "    print(\"Accuracy:\"+ str(accuracy[0]))\n",
    "    print(\"--- %s seconds ---\" % (time.time() - start_time))\n",
    "    #print(\"Accuracy:\"+ acc.eval({x: mnist.test.images, y: mnist.test.labels}, session = sess))\n",
    "        \n",
    "        \n",
    "with tf.Session() as sess:\n",
    "    #train(init, sess, logs_path, training_epochs, batch_size, optimizer, cost, merged_summary_op)\n",
    "    train(init, sess, logs_path, 10, batch_size, optimizer, cost, merged_summary_op)\n",
    "    "
   ]
  },
  {
   "cell_type": "markdown",
   "metadata": {},
   "source": [
    "<b> Question 2.1.6 </b> : Use TensorBoard to visualise and save loss and accuracy curves. \n",
    "You will save figures in the folder **\"lab_2/MNIST_figures\"** and display them in your notebook."
   ]
  },
  {
   "cell_type": "markdown",
   "metadata": {},
   "source": [
    "Please put your loss and accuracy curves here."
   ]
  },
  {
   "cell_type": "markdown",
   "metadata": {},
   "source": [
    "<b> Part 2 </b> : LeNET 5 Optimization"
   ]
  },
  {
   "cell_type": "markdown",
   "metadata": {},
   "source": [
    "\n",
    "<b> Question 2.2.1 </b>\n",
    "\n",
    "- Retrain your network with AdamOptimizer and then fill the table above:\n",
    "\n",
    "\n",
    "| Optimizer            |  Gradient Descent  |    AdamOptimizer    |\n",
    "|----------------------|--------------------|---------------------|\n",
    "| Testing Accuracy     |         0.9525        |        ???          |       \n",
    "| Training Time        |         677 s        |        ???          |  \n",
    "\n",
    "- Which optimizer gives the best accuracy on test data?\n",
    "\n",
    "**Your answer:** ...\n"
   ]
  },
  {
   "cell_type": "code",
   "execution_count": 9,
   "metadata": {},
   "outputs": [
    {
     "name": "stdout",
     "output_type": "stream",
     "text": [
      "Optimization Finished!\n",
      "Accuracy:0.9724\n",
      "--- 18.180661916732788 seconds ---\n"
     ]
    }
   ],
   "source": [
    "tf.reset_default_graph()\n",
    "# Parameters\n",
    "learning_rate = 0.001\n",
    "training_epochs = 40\n",
    "batch_size = 128\n",
    "logs_path = 'log_files/'\n",
    "\n",
    "# Model, loss function and accuracy\n",
    "# tf Graph Input:  mnist data image of shape 28*28=784\n",
    "x = tf.placeholder(tf.float32, [None, 28,28,1], name='InputData')\n",
    "# 0-9 digits recognition,  10 classes\n",
    "y = tf.placeholder(tf.float32, [None, 10], name='LabelData')\n",
    "\n",
    "# Set model weights\n",
    "#W = tf.Variable(tf.zeros([784, 10]), name='Weights')\n",
    "#b = tf.Variable(tf.zeros([10]), name='Bias')\n",
    "\n",
    "# Construct model and encapsulating all ops into scopes, making Tensorboard's Graph visualization more convenient\n",
    "with tf.name_scope('Model'):\n",
    "    # Model\n",
    "    pred = LeNet5_Model(x)\n",
    "with tf.name_scope('Loss'):\n",
    "    # Minimize error using cross entropy\n",
    "    # We use tf.clip_by_value to avoid having too low numbers in the log function\n",
    "    cost = tf.reduce_mean(-tf.reduce_sum(y*tf.log(tf.clip_by_value(pred, epsilon, 1.0)), reduction_indices=1))\n",
    "  \n",
    "with tf.name_scope('Accuracy'):\n",
    "    # Accuracy\n",
    "    acc = tf.equal(tf.argmax(pred, 1), tf.argmax(y, 1))\n",
    "    acc = tf.reduce_mean(tf.cast(acc, tf.float32)) \n",
    "# your implementation goes here\n",
    "with tf.name_scope('AdamGD'):\n",
    "    # Gradient Descent\n",
    "    AdamOptimizer = tf.train.AdamOptimizer(learning_rate).minimize(cost)\n",
    "    \n",
    "# Initializing the variables\n",
    "init = tf.global_variables_initializer()\n",
    "# Create a summary to monitor cost tensor\n",
    "tf.summary.scalar(\"Loss_LeNet-5_SGD\", cost)\n",
    "# Create a summary to monitor accuracy tensor\n",
    "tf.summary.scalar(\"Accuracy_LeNet-5_SGD\", acc)\n",
    "# Merge all summaries into a single op\n",
    "merged_summary_op = tf.summary.merge_all()\n",
    "\n",
    "with tf.Session() as sess3:\n",
    "    #train(init, sess, logs_path, training_epochs, batch_size, AdamOptimizer, cost, merged_summary_op)\n",
    "    train(init, sess3, logs_path, 1, batch_size, AdamOptimizer, cost, merged_summary_op)"
   ]
  },
  {
   "cell_type": "markdown",
   "metadata": {},
   "source": [
    "<b> Question 2.2.2</b> Try to add dropout (keep_prob = 0.75) before the first fully connected layer. You will use tf.nn.dropout for that purpose. What accuracy do you achieve on testing data?\n",
    "\n",
    "**Accuracy achieved on testing data:** ..."
   ]
  },
  {
   "cell_type": "code",
   "execution_count": 10,
   "metadata": {},
   "outputs": [
    {
     "name": "stdout",
     "output_type": "stream",
     "text": [
      "Optimization Finished!\n",
      "Accuracy:0.9656\n",
      "--- 18.512969493865967 seconds ---\n"
     ]
    }
   ],
   "source": [
    "\n",
    "def LeNet5_Model_Dropout(image):    \n",
    "    # your implementation goes here\n",
    "    shape = image.shape\n",
    "    \n",
    "    \n",
    "    weights = {\n",
    "    # Convolution Layers\n",
    "    'Wc1': weight_variable((5,5,1,6)), \n",
    "    'Wc2': weight_variable((5,5,6,16)) ,\n",
    "    \n",
    "    # Dense Layers\n",
    "    'Wd1': weight_variable((5*5*16,120)),\n",
    "    'Wd2': weight_variable((120,84)),\n",
    "    'Wd3': weight_variable((84,10))\n",
    "    }\n",
    "                           \n",
    "    biases = {\n",
    "    # Convolution Layers\n",
    "    'bc1': bias_variable((1,6)), #size = 1 ?\n",
    "    'bc2': bias_variable((1,16)) ,\n",
    "    \n",
    "    # Dense Layers\n",
    "    'bd1': bias_variable((1,120)),\n",
    "    'bd2': bias_variable((1,84)),\n",
    "    'bd3': bias_variable((1,10))\n",
    "    }\n",
    "        \n",
    "    #layer 1\n",
    "    conv1  = conv2d(image, weights['Wc1'], biases['bc1']) \n",
    "    pool1 = tf.nn.max_pool(conv1, ksize=[1,2,2,1], strides=[1,2,2,1], padding='SAME') \n",
    "  \n",
    "    #layer 2\n",
    "    conv2  = conv2d(pool1, weights['Wc2'], biases['bc2'], strides=1, padding_ = 'VALID') \n",
    "    pool2 = tf.nn.max_pool(conv2, ksize=[1,2,2,1], strides=[1,2,2,1], padding='SAME') \n",
    "    flattened = tf.reshape(pool2, [-1, 5*5*16]) \n",
    "    #let's add dropout\n",
    "    dropout = tf.nn.dropout(flattened, keep_prob = 0.75)\n",
    "\n",
    "    #layer 3\n",
    "    dense1 =  tf.nn.relu(tf.add(tf.matmul(dropout, weights['Wd1']), biases['bd1']))\n",
    "  \n",
    "    #layer 4\n",
    "    dense2 =  tf.nn.relu(tf.add(tf.matmul(dense1, weights['Wd2']), biases['bd2']))\n",
    "\n",
    "    #layer 5\n",
    "    pred = tf.nn.softmax(tf.matmul(dense2,  weights['Wd3']) + biases['bd3'])\n",
    "  \n",
    "    return pred\n",
    "\n",
    "tf.reset_default_graph()\n",
    "# your implementation goes here\n",
    "# Parameters\n",
    "learning_rate = 0.001\n",
    "training_epochs = 40\n",
    "batch_size = 128\n",
    "logs_path = 'log_files/'\n",
    "\n",
    "# Model, loss function and accuracy\n",
    "# tf Graph Input:  mnist data image of shape 28*28=784\n",
    "x = tf.placeholder(tf.float32, [None, 28,28,1], name='InputData')\n",
    "# 0-9 digits recognition,  10 classes\n",
    "y = tf.placeholder(tf.float32, [None, 10], name='LabelData')\n",
    "\n",
    "# Set model weights\n",
    "#W = tf.Variable(tf.zeros([784, 10]), name='Weights')\n",
    "#b = tf.Variable(tf.zeros([10]), name='Bias')\n",
    "\n",
    "# Construct model and encapsulating all ops into scopes, making Tensorboard's Graph visualization more convenient\n",
    "with tf.name_scope('Model'):\n",
    "    # Model\n",
    "    pred = LeNet5_Model_Dropout(x)\n",
    "with tf.name_scope('Loss'):\n",
    "    # Minimize error using cross entropy\n",
    "    # We use tf.clip_by_value to avoid having too low numbers in the log function\n",
    "    cost = tf.reduce_mean(-tf.reduce_sum(y*tf.log(tf.clip_by_value(pred, epsilon, 1.0)), reduction_indices=1))\n",
    "with tf.name_scope('SGD'):\n",
    "    # Gradient Descent\n",
    "    optimizer = tf.train.GradientDescentOptimizer(learning_rate).minimize(cost)\n",
    "    \n",
    "with tf.name_scope('AdamGD'):\n",
    "    # Gradient Descent\n",
    "    AdamOptimizer = tf.train.AdamOptimizer(learning_rate).minimize(cost)\n",
    "    \n",
    "with tf.name_scope('Accuracy'):\n",
    "    # Accuracy\n",
    "    acc = tf.equal(tf.argmax(pred, 1), tf.argmax(y, 1))\n",
    "    acc = tf.reduce_mean(tf.cast(acc, tf.float32)) \n",
    "  \n",
    "init = tf.global_variables_initializer()\n",
    "# Create a summary to monitor cost tensor\n",
    "tf.summary.scalar(\"Loss_LeNet-5_SGD\", cost)\n",
    "# Create a summary to monitor accuracy tensor\n",
    "tf.summary.scalar(\"Accuracy_LeNet-5_SGD\", acc)\n",
    "# Merge all summaries into a single op\n",
    "merged_summary_op = tf.summary.merge_all()\n",
    "\n",
    "with tf.Session() as sess:\n",
    "    #train(init, sess, logs_path, training_epochs, batch_size, optimizer, cost, merged_summary_op)\n",
    "     train(init, sess, logs_path, 1, batch_size, AdamOptimizer, cost, merged_summary_op)\n"
   ]
  }
 ],
 "metadata": {
  "anaconda-cloud": {},
  "kernelspec": {
   "display_name": "Python 3",
   "language": "python",
   "name": "python3"
  },
  "language_info": {
   "codemirror_mode": {
    "name": "ipython",
    "version": 3
   },
   "file_extension": ".py",
   "mimetype": "text/x-python",
   "name": "python",
   "nbconvert_exporter": "python",
   "pygments_lexer": "ipython3",
   "version": "3.5.2"
  },
  "widgets": {
   "state": {},
   "version": "1.1.2"
  }
 },
 "nbformat": 4,
 "nbformat_minor": 2
}
